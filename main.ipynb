{
 "cells": [
  {
   "cell_type": "code",
   "execution_count": 25,
   "metadata": {},
   "outputs": [],
   "source": [
    "#import all the necessary libraries\n",
    "import requests\n",
    "import json\n",
    "import matplotlib.pyplot as plt\n",
    "from rasterio.plot import show\n",
    "import os\n",
    "import pandas as pd\n",
    "import plotly.graph_objects as go\n",
    "import imageio\n",
    "from glob import glob \n",
    "import os\n",
    "from shapely.geometry.polygon import Polygon\n",
    "from natsort import natsorted, ns\n",
    "import fiona\n",
    "import rasterio\n",
    "import rasterio.mask\n",
    "import plotly.express as px\n",
    "import time\n",
    "import webbrowser\n",
    "from mayavi import mlab\n",
    "import mayavi\n",
    "from IPython.display import Image\n"
   ]
  },
  {
   "cell_type": "markdown",
   "metadata": {},
   "source": [
    "### Step 1: enter an address in Province Antwerp"
   ]
  },
  {
   "cell_type": "code",
   "execution_count": 26,
   "metadata": {},
   "outputs": [],
   "source": [
    "#ask for input for an address in Antwerp\n",
    "#Example format: Sint-Pietersvliet 7 2000 Antwerpen\n",
    "address=input(\"Please enter an address in Province Antwerp, format: street-name house-number postcode city\")"
   ]
  },
  {
   "cell_type": "code",
   "execution_count": 27,
   "metadata": {},
   "outputs": [],
   "source": [
    "# Log the start time\n",
    "start_time = time.time()"
   ]
  },
  {
   "cell_type": "markdown",
   "metadata": {},
   "source": [
    "### Step 2: find the address polygon data from API"
   ]
  },
  {
   "cell_type": "code",
   "execution_count": 28,
   "metadata": {},
   "outputs": [],
   "source": [
    "#Parse the entered address\n",
    "street_name = address.split(\" \")[0:-3]\n",
    "house_number = address.split(\" \")[-3]\n",
    "postcode = address.split(\" \")[-2]\n",
    "name_of_the_municipality = address.split(\" \")[-1]\n",
    "\n",
    "#get the address information from api\n",
    "address_url = \"https://api.basisregisters.vlaanderen.be/v1/adresmatch\"\n",
    "address_params = {'straatnaam':street_name, 'huisnummer':house_number, 'postcode':postcode}\n",
    "address_match_result = requests.get(address_url,params=address_params)\n",
    "address_match_data = address_match_result.json()"
   ]
  },
  {
   "cell_type": "code",
   "execution_count": 29,
   "metadata": {},
   "outputs": [],
   "source": [
    "#normalize the json data and find the gebouweenheden link\n",
    "df=pd.json_normalize(address_match_data,'adresMatches')\n",
    "gebouweenheden = df[\"adresseerbareObjecten\"]\n",
    "gebouweenheden_link = gebouweenheden[0][0]['detail']"
   ]
  },
  {
   "cell_type": "code",
   "execution_count": 30,
   "metadata": {},
   "outputs": [
    {
     "data": {
      "text/plain": [
       "{'identificator': {'id': 'https://data.vlaanderen.be/id/gebouweenheid/19337222',\n",
       "  'naamruimte': 'https://data.vlaanderen.be/id/gebouweenheid',\n",
       "  'objectId': '19337222',\n",
       "  'versieId': '2019-03-20T06:58:38+01:00'},\n",
       " 'geometriePunt': {'point': {'coordinates': [152475.91, 212498.8],\n",
       "   'type': 'Point'}},\n",
       " 'positieGeometrieMethode': 'afgeleidVanObject',\n",
       " 'gebouweenheidStatus': 'gerealiseerd',\n",
       " 'functie': 'gemeenschappelijkDeel',\n",
       " 'gebouw': {'objectId': '16154913',\n",
       "  'detail': 'https://api.basisregisters.vlaanderen.be/v1/gebouwen/16154913'},\n",
       " 'adressen': [{'objectId': '19337131',\n",
       "   'detail': 'https://api.basisregisters.vlaanderen.be/v1/adressen/19337131'}]}"
      ]
     },
     "execution_count": 30,
     "metadata": {},
     "output_type": "execute_result"
    }
   ],
   "source": [
    "#get the data from gebouweenheden\n",
    "r = requests.get(gebouweenheden_link)\n",
    "gebouwen_data = json.loads(r.content)\n",
    "gebouwen_data "
   ]
  },
  {
   "cell_type": "code",
   "execution_count": 31,
   "metadata": {},
   "outputs": [
    {
     "name": "stdout",
     "output_type": "stream",
     "text": [
      "https://api.basisregisters.vlaanderen.be/v1/gebouwen/16154913\n"
     ]
    }
   ],
   "source": [
    "#extract gebouw link from the dictionary of gebouwenheden\n",
    "gebouw_link = gebouwen_data['gebouw']['detail']\n",
    "print(gebouw_link)"
   ]
  },
  {
   "cell_type": "code",
   "execution_count": 32,
   "metadata": {},
   "outputs": [],
   "source": [
    "#extract polygon data from the dictionary of gebouwenheden\n",
    "r = requests.get(gebouw_link)\n",
    "gebouw_data = json.loads(r.content)\n",
    "polygon = Polygon(gebouw_data['geometriePolygoon']['polygon']['coordinates'][0])\n",
    "polygon_coord = gebouw_data['geometriePolygoon']['polygon']['coordinates'][0]\n"
   ]
  },
  {
   "cell_type": "code",
   "execution_count": 33,
   "metadata": {},
   "outputs": [
    {
     "data": {
      "image/png": "[encoded data removed]",
      "text/plain": [
       "<Figure size 432x288 with 1 Axes>"
      ]
     },
     "metadata": {
      "needs_background": "light"
     },
     "output_type": "display_data"
    }
   ],
   "source": [
    "#plot the polygon of the address \n",
    "coord=polygon_coord\n",
    "xs, ys = zip(*coord) #create lists of x and y values\n",
    "plt.figure()\n",
    "plt.plot(xs,ys) \n",
    "plt.show() "
   ]
  },
  {
   "cell_type": "markdown",
   "metadata": {},
   "source": [
    "### Step 3: Get the list of all the tif file of DSM and DTM"
   ]
  },
  {
   "cell_type": "code",
   "execution_count": 34,
   "metadata": {},
   "outputs": [],
   "source": [
    "dtm_path = '/Users/yihuiwang/Documents/BeCode/My_project/3D_House/3d house data/DTM/**/*.tif'\n",
    "dsm_path = '/Users/yihuiwang/Documents/BeCode/My_project/3D_House/3d house data/DSM/**/*.tif'\n",
    "def tif_file(path):\n",
    "    \n",
    "    tif_file =[]\n",
    "    \n",
    "    # using glob library to get all the file with .tif\n",
    "    files = glob(path,recursive = True) \n",
    "    for file in files: \n",
    "        tif_file.append(file)\n",
    "\n",
    "     # sort files with number in the file (ascending order) using natsorted library\n",
    "    tif_file = natsorted(tif_file, alg=ns.IGNORECASE)     \n",
    "    return tif_file\n",
    "\n",
    "dsm_tif= tif_file(dsm_path)\n",
    "#print(dsm_tif)"
   ]
  },
  {
   "cell_type": "code",
   "execution_count": 35,
   "metadata": {},
   "outputs": [],
   "source": [
    "dtm_tif= tif_file(dtm_path)\n",
    "#print(dtm_tif)"
   ]
  },
  {
   "cell_type": "markdown",
   "metadata": {},
   "source": [
    "### Step 4: Creat bounding box of all the downloaded zone"
   ]
  },
  {
   "cell_type": "code",
   "execution_count": 36,
   "metadata": {},
   "outputs": [],
   "source": [
    "for file in dsm_tif:\n",
    "     dsm_bounds = rasterio.open(file).bounds\n",
    "     #print(dsm_bounds)"
   ]
  },
  {
   "cell_type": "markdown",
   "metadata": {},
   "source": [
    "### Step 5: Find in which zone the given address is located    \n",
    "        (if not an address in Province Antwerp, ask to enter a new address)"
   ]
  },
  {
   "cell_type": "code",
   "execution_count": 37,
   "metadata": {},
   "outputs": [
    {
     "name": "stdout",
     "output_type": "stream",
     "text": [
      "The house is in this tif: /Users/yihuiwang/Documents/BeCode/My_project/3D_House/3d house data/DSM/DHMVIIDSMRAS1m_k15/GeoTIFF/DHMVIIDSMRAS1m_k15.tif\n"
     ]
    }
   ],
   "source": [
    "# to check which dsm tif contains the polygon of the given address\n",
    "\n",
    "def check_polygon_in_dsm():\n",
    "    for file in dsm_tif:\n",
    "        bound = rasterio.open(file).bounds\n",
    "        for x, y in polygon_coord:\n",
    "            if (bound[0]<= x <= bound[2]) and (bound[1]<= y <= bound[3]):\n",
    "                    scr_path=file\n",
    "                    print('The house is in this tif:',file)\n",
    "                    return scr_path\n",
    "            else:\n",
    "                pass\n",
    "    print(\"This address is not in Province Antwerp. Please enter a new address.\")\n",
    "            \n",
    "\n",
    "dsm_src_path = check_polygon_in_dsm()\n"
   ]
  },
  {
   "cell_type": "code",
   "execution_count": 38,
   "metadata": {},
   "outputs": [
    {
     "name": "stdout",
     "output_type": "stream",
     "text": [
      "The house is in this tif: /Users/yihuiwang/Documents/BeCode/My_project/3D_House/3d house data/DTM/DHMVIIDTMRAS1m_k15/GeoTIFF/DHMVIIDTMRAS1m_k15.tif\n"
     ]
    }
   ],
   "source": [
    "# to check which dtm tif contains the polygon of the given address\n",
    "\n",
    "def check_polygon_in_dtm():\n",
    "    for file in dtm_tif:\n",
    "        bound = rasterio.open(file).bounds\n",
    "        for x, y in polygon_coord:\n",
    "            if (bound[0]<= x <= bound[2]) and (bound[1]<= y <= bound[3]):\n",
    "                    scr_path=file\n",
    "                    print('The house is in this tif:',file)\n",
    "                    return scr_path\n",
    "            else:\n",
    "                pass\n",
    "    print(\"This address is not in Province Antwerp. Please enter a new address.\")\n",
    "            \n",
    "\n",
    "dtm_src_path = check_polygon_in_dtm()"
   ]
  },
  {
   "cell_type": "code",
   "execution_count": 39,
   "metadata": {},
   "outputs": [
    {
     "name": "stdout",
     "output_type": "stream",
     "text": [
      "/Users/yihuiwang/Documents/BeCode/My_project/3D_House/3d house data/DSM/DHMVIIDSMRAS1m_k15/GeoTIFF/DHMVIIDSMRAS1m_k15.tif\n",
      "/Users/yihuiwang/Documents/BeCode/My_project/3D_House/3d house data/DTM/DHMVIIDTMRAS1m_k15/GeoTIFF/DHMVIIDTMRAS1m_k15.tif\n"
     ]
    }
   ],
   "source": [
    "print(dsm_src_path)\n",
    "print(dtm_src_path)\n"
   ]
  },
  {
   "cell_type": "markdown",
   "metadata": {},
   "source": [
    "### Step 6: clip the dsm and dtm based on the polygon of address"
   ]
  },
  {
   "cell_type": "code",
   "execution_count": 40,
   "metadata": {},
   "outputs": [],
   "source": [
    "def clip(path):\n",
    "    try:\n",
    "        with rasterio.open(path) as src:\n",
    "            out_image, out_transform = rasterio.mask.mask(src, [polygon], crop=True)\n",
    "        clipped_result = out_image[0]\n",
    "    except Exception as err:\n",
    "        print(\"Problem with clipping process\")\n",
    "        \n",
    "    return clipped_result\n",
    "\n",
    "clipped_dsm = clip(dsm_src_path)\n",
    "clipped_dtm = clip(dtm_src_path)"
   ]
  },
  {
   "cell_type": "markdown",
   "metadata": {},
   "source": [
    "### Step 7: calculate the CHM of the address"
   ]
  },
  {
   "cell_type": "code",
   "execution_count": 41,
   "metadata": {},
   "outputs": [],
   "source": [
    "clipped_chm = clipped_dsm-clipped_dtm"
   ]
  },
  {
   "cell_type": "markdown",
   "metadata": {},
   "source": [
    "### Step 8: 3D plot of the house"
   ]
  },
  {
   "cell_type": "code",
   "execution_count": 42,
   "metadata": {},
   "outputs": [
    {
     "data": {
      "application/vnd.plotly.v1+json": {
       "config": {
        "plotlyServerURL": "https://plot.ly"
       },
       "data": [
        {
         "type": "surface",
         "z": [
          [
           0,
           0,
           0,
           0,
           0,
           0,
           0,
           8.730000495910645,
           0,
           0,
           0,
           0,
           0,
           0,
           0,
           0
          ],
          [
           0,
           0,
           0,
           0,
           0,
           6.789999485015869,
           13.379999160766602,
           13.40999984741211,
           13.429999351501465,
           4.53000020980835,
           0,
           0,
           0,
           0,
           0,
           0
          ],
          [
           0,
           0,
           0,
           0,
           13.369999885559082,
           7.410000324249268,
           13.329999923706055,
           13.410000801086426,
           13.459999084472656,
           13.469999313354492,
           0,
           0,
           0,
           0,
           0,
           0
          ],
          [
           0,
           0,
           0,
           13.34000015258789,
           13.369998931884766,
           13.360000610351562,
           13.40999984741211,
           13.429999351501465,
           13.459999084472656,
           13.479999542236328,
           9.539999961853027,
           0,
           0,
           0,
           0,
           0
          ],
          [
           0,
           6.359999656677246,
           13.329999923706055,
           13.34000015258789,
           13.340001106262207,
           13.389999389648438,
           13.39000129699707,
           13.429999351501465,
           13.440000534057617,
           13.5,
           13.499999046325684,
           6.289999961853027,
           0,
           0,
           0,
           0
          ],
          [
           0,
           13.360000610351562,
           13.34000015258789,
           13.319999694824219,
           13.429999351501465,
           13.529998779296875,
           13.420000076293945,
           13.419999122619629,
           13.459999084472656,
           13.469999313354492,
           13.479999542236328,
           13.640000343322754,
           0,
           0,
           0,
           0
          ],
          [
           0,
           0,
           13.34000015258789,
           13.319999694824219,
           13.339999198913574,
           13.379999160766602,
           13.399999618530273,
           13.449999809265137,
           13.449999809265137,
           13.450000762939453,
           11.430000305175781,
           8.379999160766602,
           8.110000610351562,
           0,
           0,
           0
          ],
          [
           0,
           0,
           0,
           13.350000381469727,
           13.339999198913574,
           13.369998931884766,
           13.40999984741211,
           13.430000305175781,
           13.74000072479248,
           13.370000839233398,
           10.90999984741211,
           7.889999866485596,
           8.369999885559082,
           6.2699995040893555,
           0,
           0
          ],
          [
           0,
           0,
           0,
           13.309999465942383,
           13.360000610351562,
           13.389999389648438,
           13.40999984741211,
           13.369999885559082,
           13.329999923706055,
           13.370000839233398,
           11.619999885559082,
           10.329999923706055,
           12.270000457763672,
           10.449999809265137,
           0,
           0
          ],
          [
           0,
           0,
           0,
           0,
           13.350000381469727,
           13.309999465942383,
           13.25,
           13.279998779296875,
           13.320001602172852,
           13.379999160766602,
           13.399999618530273,
           13.050000190734863,
           13.440000534057617,
           10.84999942779541,
           13.569999694824219,
           0
          ],
          [
           0,
           0,
           0,
           0,
           0,
           13.170000076293945,
           13.219999313354492,
           13.269998550415039,
           13.319999694824219,
           13.339999198913574,
           13.369998931884766,
           13.389999389648438,
           13.430000305175781,
           13.510000228881836,
           0,
           0
          ],
          [
           0,
           0,
           0,
           0,
           0,
           0,
           13.219999313354492,
           13.25999927520752,
           13.289999008178711,
           13.319999694824219,
           13.380000114440918,
           13.530000686645508,
           14.359999656677246,
           0,
           0,
           0
          ],
          [
           0,
           0,
           0,
           0,
           0,
           0,
           12.65999984741211,
           13.229999542236328,
           13.25999927520752,
           13.309999465942383,
           13.370000839233398,
           0,
           0,
           0,
           0,
           0
          ],
          [
           0,
           0,
           0,
           0,
           0,
           0,
           0,
           13.219999313354492,
           13.260000228881836,
           13.34000015258789,
           0,
           0,
           0,
           0,
           0,
           0
          ],
          [
           0,
           0,
           0,
           0,
           0,
           0,
           0,
           0,
           0,
           0,
           0,
           0,
           0,
           0,
           0,
           0
          ]
         ]
        }
       ],
       "layout": {
        "autosize": false,
        "height": 700,
        "margin": {
         "b": 70,
         "l": 70,
         "r": 70,
         "t": 90
        },
        "scene": {
         "xaxis": {
          "title": {
           "text": "Distance (m)"
          }
         },
         "yaxis": {
          "title": {
           "text": "Distance (m)"
          }
         },
         "zaxis": {
          "title": {
           "text": "Elevation (m)"
          }
         }
        },
        "template": {
         "data": {
          "bar": [
           {
            "error_x": {
             "color": "#2a3f5f"
            },
            "error_y": {
             "color": "#2a3f5f"
            },
            "marker": {
             "line": {
              "color": "#E5ECF6",
              "width": 0.5
             },
             "pattern": {
              "fillmode": "overlay",
              "size": 10,
              "solidity": 0.2
             }
            },
            "type": "bar"
           }
          ],
          "barpolar": [
           {
            "marker": {
             "line": {
              "color": "#E5ECF6",
              "width": 0.5
             },
             "pattern": {
              "fillmode": "overlay",
              "size": 10,
              "solidity": 0.2
             }
            },
            "type": "barpolar"
           }
          ],
          "carpet": [
           {
            "aaxis": {
             "endlinecolor": "#2a3f5f",
             "gridcolor": "white",
             "linecolor": "white",
             "minorgridcolor": "white",
             "startlinecolor": "#2a3f5f"
            },
            "baxis": {
             "endlinecolor": "#2a3f5f",
             "gridcolor": "white",
             "linecolor": "white",
             "minorgridcolor": "white",
             "startlinecolor": "#2a3f5f"
            },
            "type": "carpet"
           }
          ],
          "choropleth": [
           {
            "colorbar": {
             "outlinewidth": 0,
             "ticks": ""
            },
            "type": "choropleth"
           }
          ],
          "contour": [
           {
            "colorbar": {
             "outlinewidth": 0,
             "ticks": ""
            },
            "colorscale": [
             [
              0,
              "#0d0887"
             ],
             [
              0.1111111111111111,
              "#46039f"
             ],
             [
              0.2222222222222222,
              "#7201a8"
             ],
             [
              0.3333333333333333,
              "#9c179e"
             ],
             [
              0.4444444444444444,
              "#bd3786"
             ],
             [
              0.5555555555555556,
              "#d8576b"
             ],
             [
              0.6666666666666666,
              "#ed7953"
             ],
             [
              0.7777777777777778,
              "#fb9f3a"
             ],
             [
              0.8888888888888888,
              "#fdca26"
             ],
             [
              1,
              "#f0f921"
             ]
            ],
            "type": "contour"
           }
          ],
          "contourcarpet": [
           {
            "colorbar": {
             "outlinewidth": 0,
             "ticks": ""
            },
            "type": "contourcarpet"
           }
          ],
          "heatmap": [
           {
            "colorbar": {
             "outlinewidth": 0,
             "ticks": ""
            },
            "colorscale": [
             [
              0,
              "#0d0887"
             ],
             [
              0.1111111111111111,
              "#46039f"
             ],
             [
              0.2222222222222222,
              "#7201a8"
             ],
             [
              0.3333333333333333,
              "#9c179e"
             ],
             [
              0.4444444444444444,
              "#bd3786"
             ],
             [
              0.5555555555555556,
              "#d8576b"
             ],
             [
              0.6666666666666666,
              "#ed7953"
             ],
             [
              0.7777777777777778,
              "#fb9f3a"
             ],
             [
              0.8888888888888888,
              "#fdca26"
             ],
             [
              1,
              "#f0f921"
             ]
            ],
            "type": "heatmap"
           }
          ],
          "heatmapgl": [
           {
            "colorbar": {
             "outlinewidth": 0,
             "ticks": ""
            },
            "colorscale": [
             [
              0,
              "#0d0887"
             ],
             [
              0.1111111111111111,
              "#46039f"
             ],
             [
              0.2222222222222222,
              "#7201a8"
             ],
             [
              0.3333333333333333,
              "#9c179e"
             ],
             [
              0.4444444444444444,
              "#bd3786"
             ],
             [
              0.5555555555555556,
              "#d8576b"
             ],
             [
              0.6666666666666666,
              "#ed7953"
             ],
             [
              0.7777777777777778,
              "#fb9f3a"
             ],
             [
              0.8888888888888888,
              "#fdca26"
             ],
             [
              1,
              "#f0f921"
             ]
            ],
            "type": "heatmapgl"
           }
          ],
          "histogram": [
           {
            "marker": {
             "pattern": {
              "fillmode": "overlay",
              "size": 10,
              "solidity": 0.2
             }
            },
            "type": "histogram"
           }
          ],
          "histogram2d": [
           {
            "colorbar": {
             "outlinewidth": 0,
             "ticks": ""
            },
            "colorscale": [
             [
              0,
              "#0d0887"
             ],
             [
              0.1111111111111111,
              "#46039f"
             ],
             [
              0.2222222222222222,
              "#7201a8"
             ],
             [
              0.3333333333333333,
              "#9c179e"
             ],
             [
              0.4444444444444444,
              "#bd3786"
             ],
             [
              0.5555555555555556,
              "#d8576b"
             ],
             [
              0.6666666666666666,
              "#ed7953"
             ],
             [
              0.7777777777777778,
              "#fb9f3a"
             ],
             [
              0.8888888888888888,
              "#fdca26"
             ],
             [
              1,
              "#f0f921"
             ]
            ],
            "type": "histogram2d"
           }
          ],
          "histogram2dcontour": [
           {
            "colorbar": {
             "outlinewidth": 0,
             "ticks": ""
            },
            "colorscale": [
             [
              0,
              "#0d0887"
             ],
             [
              0.1111111111111111,
              "#46039f"
             ],
             [
              0.2222222222222222,
              "#7201a8"
             ],
             [
              0.3333333333333333,
              "#9c179e"
             ],
             [
              0.4444444444444444,
              "#bd3786"
             ],
             [
              0.5555555555555556,
              "#d8576b"
             ],
             [
              0.6666666666666666,
              "#ed7953"
             ],
             [
              0.7777777777777778,
              "#fb9f3a"
             ],
             [
              0.8888888888888888,
              "#fdca26"
             ],
             [
              1,
              "#f0f921"
             ]
            ],
            "type": "histogram2dcontour"
           }
          ],
          "mesh3d": [
           {
            "colorbar": {
             "outlinewidth": 0,
             "ticks": ""
            },
            "type": "mesh3d"
           }
          ],
          "parcoords": [
           {
            "line": {
             "colorbar": {
              "outlinewidth": 0,
              "ticks": ""
             }
            },
            "type": "parcoords"
           }
          ],
          "pie": [
           {
            "automargin": true,
            "type": "pie"
           }
          ],
          "scatter": [
           {
            "fillpattern": {
             "fillmode": "overlay",
             "size": 10,
             "solidity": 0.2
            },
            "type": "scatter"
           }
          ],
          "scatter3d": [
           {
            "line": {
             "colorbar": {
              "outlinewidth": 0,
              "ticks": ""
             }
            },
            "marker": {
             "colorbar": {
              "outlinewidth": 0,
              "ticks": ""
             }
            },
            "type": "scatter3d"
           }
          ],
          "scattercarpet": [
           {
            "marker": {
             "colorbar": {
              "outlinewidth": 0,
              "ticks": ""
             }
            },
            "type": "scattercarpet"
           }
          ],
          "scattergeo": [
           {
            "marker": {
             "colorbar": {
              "outlinewidth": 0,
              "ticks": ""
             }
            },
            "type": "scattergeo"
           }
          ],
          "scattergl": [
           {
            "marker": {
             "colorbar": {
              "outlinewidth": 0,
              "ticks": ""
             }
            },
            "type": "scattergl"
           }
          ],
          "scattermapbox": [
           {
            "marker": {
             "colorbar": {
              "outlinewidth": 0,
              "ticks": ""
             }
            },
            "type": "scattermapbox"
           }
          ],
          "scatterpolar": [
           {
            "marker": {
             "colorbar": {
              "outlinewidth": 0,
              "ticks": ""
             }
            },
            "type": "scatterpolar"
           }
          ],
          "scatterpolargl": [
           {
            "marker": {
             "colorbar": {
              "outlinewidth": 0,
              "ticks": ""
             }
            },
            "type": "scatterpolargl"
           }
          ],
          "scatterternary": [
           {
            "marker": {
             "colorbar": {
              "outlinewidth": 0,
              "ticks": ""
             }
            },
            "type": "scatterternary"
           }
          ],
          "surface": [
           {
            "colorbar": {
             "outlinewidth": 0,
             "ticks": ""
            },
            "colorscale": [
             [
              0,
              "#0d0887"
             ],
             [
              0.1111111111111111,
              "#46039f"
             ],
             [
              0.2222222222222222,
              "#7201a8"
             ],
             [
              0.3333333333333333,
              "#9c179e"
             ],
             [
              0.4444444444444444,
              "#bd3786"
             ],
             [
              0.5555555555555556,
              "#d8576b"
             ],
             [
              0.6666666666666666,
              "#ed7953"
             ],
             [
              0.7777777777777778,
              "#fb9f3a"
             ],
             [
              0.8888888888888888,
              "#fdca26"
             ],
             [
              1,
              "#f0f921"
             ]
            ],
            "type": "surface"
           }
          ],
          "table": [
           {
            "cells": {
             "fill": {
              "color": "#EBF0F8"
             },
             "line": {
              "color": "white"
             }
            },
            "header": {
             "fill": {
              "color": "#C8D4E3"
             },
             "line": {
              "color": "white"
             }
            },
            "type": "table"
           }
          ]
         },
         "layout": {
          "annotationdefaults": {
           "arrowcolor": "#2a3f5f",
           "arrowhead": 0,
           "arrowwidth": 1
          },
          "autotypenumbers": "strict",
          "coloraxis": {
           "colorbar": {
            "outlinewidth": 0,
            "ticks": ""
           }
          },
          "colorscale": {
           "diverging": [
            [
             0,
             "#8e0152"
            ],
            [
             0.1,
             "#c51b7d"
            ],
            [
             0.2,
             "#de77ae"
            ],
            [
             0.3,
             "#f1b6da"
            ],
            [
             0.4,
             "#fde0ef"
            ],
            [
             0.5,
             "#f7f7f7"
            ],
            [
             0.6,
             "#e6f5d0"
            ],
            [
             0.7,
             "#b8e186"
            ],
            [
             0.8,
             "#7fbc41"
            ],
            [
             0.9,
             "#4d9221"
            ],
            [
             1,
             "#276419"
            ]
           ],
           "sequential": [
            [
             0,
             "#0d0887"
            ],
            [
             0.1111111111111111,
             "#46039f"
            ],
            [
             0.2222222222222222,
             "#7201a8"
            ],
            [
             0.3333333333333333,
             "#9c179e"
            ],
            [
             0.4444444444444444,
             "#bd3786"
            ],
            [
             0.5555555555555556,
             "#d8576b"
            ],
            [
             0.6666666666666666,
             "#ed7953"
            ],
            [
             0.7777777777777778,
             "#fb9f3a"
            ],
            [
             0.8888888888888888,
             "#fdca26"
            ],
            [
             1,
             "#f0f921"
            ]
           ],
           "sequentialminus": [
            [
             0,
             "#0d0887"
            ],
            [
             0.1111111111111111,
             "#46039f"
            ],
            [
             0.2222222222222222,
             "#7201a8"
            ],
            [
             0.3333333333333333,
             "#9c179e"
            ],
            [
             0.4444444444444444,
             "#bd3786"
            ],
            [
             0.5555555555555556,
             "#d8576b"
            ],
            [
             0.6666666666666666,
             "#ed7953"
            ],
            [
             0.7777777777777778,
             "#fb9f3a"
            ],
            [
             0.8888888888888888,
             "#fdca26"
            ],
            [
             1,
             "#f0f921"
            ]
           ]
          },
          "colorway": [
           "#636efa",
           "#EF553B",
           "#00cc96",
           "#ab63fa",
           "#FFA15A",
           "#19d3f3",
           "#FF6692",
           "#B6E880",
           "#FF97FF",
           "#FECB52"
          ],
          "font": {
           "color": "#2a3f5f"
          },
          "geo": {
           "bgcolor": "white",
           "lakecolor": "white",
           "landcolor": "#E5ECF6",
           "showlakes": true,
           "showland": true,
           "subunitcolor": "white"
          },
          "hoverlabel": {
           "align": "left"
          },
          "hovermode": "closest",
          "mapbox": {
           "style": "light"
          },
          "paper_bgcolor": "white",
          "plot_bgcolor": "#E5ECF6",
          "polar": {
           "angularaxis": {
            "gridcolor": "white",
            "linecolor": "white",
            "ticks": ""
           },
           "bgcolor": "#E5ECF6",
           "radialaxis": {
            "gridcolor": "white",
            "linecolor": "white",
            "ticks": ""
           }
          },
          "scene": {
           "xaxis": {
            "backgroundcolor": "#E5ECF6",
            "gridcolor": "white",
            "gridwidth": 2,
            "linecolor": "white",
            "showbackground": true,
            "ticks": "",
            "zerolinecolor": "white"
           },
           "yaxis": {
            "backgroundcolor": "#E5ECF6",
            "gridcolor": "white",
            "gridwidth": 2,
            "linecolor": "white",
            "showbackground": true,
            "ticks": "",
            "zerolinecolor": "white"
           },
           "zaxis": {
            "backgroundcolor": "#E5ECF6",
            "gridcolor": "white",
            "gridwidth": 2,
            "linecolor": "white",
            "showbackground": true,
            "ticks": "",
            "zerolinecolor": "white"
           }
          },
          "shapedefaults": {
           "line": {
            "color": "#2a3f5f"
           }
          },
          "ternary": {
           "aaxis": {
            "gridcolor": "white",
            "linecolor": "white",
            "ticks": ""
           },
           "baxis": {
            "gridcolor": "white",
            "linecolor": "white",
            "ticks": ""
           },
           "bgcolor": "#E5ECF6",
           "caxis": {
            "gridcolor": "white",
            "linecolor": "white",
            "ticks": ""
           }
          },
          "title": {
           "x": 0.05
          },
          "xaxis": {
           "automargin": true,
           "gridcolor": "white",
           "linecolor": "white",
           "ticks": "",
           "title": {
            "standoff": 15
           },
           "zerolinecolor": "white",
           "zerolinewidth": 2
          },
          "yaxis": {
           "automargin": true,
           "gridcolor": "white",
           "linecolor": "white",
           "ticks": "",
           "title": {
            "standoff": 15
           },
           "zerolinecolor": "white",
           "zerolinewidth": 2
          }
         }
        },
        "title": {
         "text": "Grote 1 2000 Antwerpen"
        },
        "width": 700
       }
      }
     },
     "metadata": {},
     "output_type": "display_data"
    }
   ],
   "source": [
    "fig= go.Figure(data = [go.Surface(z=clipped_chm)])\n",
    "fig.update_layout(title= address, autosize=False,\n",
    "                  width=700, height=700,\n",
    "                  margin=dict(l=70, r=70, b=70, t=90))\n",
    "fig.update_scenes(xaxis_title_text='Distance (m)',  \n",
    "                  yaxis_title_text='Distance (m)',  \n",
    "                  zaxis_title_text='Elevation (m)')\n",
    "fig.show()"
   ]
  },
  {
   "cell_type": "code",
   "execution_count": 43,
   "metadata": {},
   "outputs": [
    {
     "name": "stdout",
     "output_type": "stream",
     "text": [
      "Time taken for generating 3D house in seconds:  4.547431945800781\n"
     ]
    }
   ],
   "source": [
    "# Log the end time\n",
    "end_time = time.time()\n",
    "\n",
    "print('Time taken for generating 3D house in seconds: ', end_time - start_time)"
   ]
  },
  {
   "cell_type": "code",
   "execution_count": 44,
   "metadata": {},
   "outputs": [],
   "source": [
    "#save the 3d image into html\n",
    "saving_path = \"/Users/yihuiwang/Documents/BeCode/My_project/3D_House/3d house data/3d_effect/\"\n",
    "fig.write_html(saving_path+address+'.html')\n"
   ]
  },
  {
   "cell_type": "code",
   "execution_count": 45,
   "metadata": {},
   "outputs": [],
   "source": [
    "mlab.figure(size=(640, 800), bgcolor=(0.16, 0.28, 0.46))\n",
    "\n",
    "surf = mlab.surf(clipped_chm)\n",
    "mayavi.mlab.title(address)\n",
    "\n",
    "saving_path = \"/Users/yihuiwang/Documents/BeCode/My_project/3D_House/3d house data/3d_effect/\"\n",
    "mlab.savefig(saving_path+address+'.png')\n",
    "# show saved mayavi image\n",
    "mlab.show()\n",
    "mayavi.mlab.close(all=True)"
   ]
  },
  {
   "cell_type": "code",
   "execution_count": 46,
   "metadata": {},
   "outputs": [
    {
     "data": {
      "image/png": "[encoded data removed]",
      "text/plain": [
       "<IPython.core.display.Image object>"
      ]
     },
     "execution_count": 46,
     "metadata": {},
     "output_type": "execute_result"
    }
   ],
   "source": [
    "Image(saving_path+address+'.png')"
   ]
  },
  {
   "cell_type": "markdown",
   "metadata": {},
   "source": [
    "### Step 9: check the 3d house with the google street view"
   ]
  },
  {
   "cell_type": "code",
   "execution_count": 53,
   "metadata": {},
   "outputs": [
    {
     "ename": "TypeError",
     "evalue": "can only concatenate str (not \"list\") to str",
     "output_type": "error",
     "traceback": [
      "\u001b[0;31m---------------------------------------------------------------------------\u001b[0m",
      "\u001b[0;31mTypeError\u001b[0m                                 Traceback (most recent call last)",
      "\u001b[0;32m/var/folders/19/sv_6hbsn0d52kh_xhxmjswxh0000gn/T/ipykernel_3499/3843117214.py\u001b[0m in \u001b[0;36m<module>\u001b[0;34m\u001b[0m\n\u001b[1;32m      1\u001b[0m \u001b[0;31m# to view actual house on google map\u001b[0m\u001b[0;34m\u001b[0m\u001b[0;34m\u001b[0m\u001b[0m\n\u001b[0;32m----> 2\u001b[0;31m \u001b[0murl\u001b[0m \u001b[0;34m=\u001b[0m \u001b[0;34m'https://www.google.com/maps/place/'\u001b[0m\u001b[0;34m+\u001b[0m\u001b[0mstreet_name\u001b[0m\u001b[0;34m+\u001b[0m\u001b[0;34m'+'\u001b[0m\u001b[0;34m+\u001b[0m\u001b[0mhouse_number\u001b[0m\u001b[0;34m+\u001b[0m\u001b[0;34m',+'\u001b[0m\u001b[0;34m+\u001b[0m\u001b[0mpostcode\u001b[0m\u001b[0;34m+\u001b[0m\u001b[0;34m'+'\u001b[0m\u001b[0;34m+\u001b[0m\u001b[0mname_of_the_municipality\u001b[0m\u001b[0;34m\u001b[0m\u001b[0;34m\u001b[0m\u001b[0m\n\u001b[0m\u001b[1;32m      3\u001b[0m \u001b[0mwebbrowser\u001b[0m\u001b[0;34m.\u001b[0m\u001b[0mopen\u001b[0m\u001b[0;34m(\u001b[0m\u001b[0murl\u001b[0m\u001b[0;34m)\u001b[0m\u001b[0;34m\u001b[0m\u001b[0;34m\u001b[0m\u001b[0m\n",
      "\u001b[0;31mTypeError\u001b[0m: can only concatenate str (not \"list\") to str"
     ]
    }
   ],
   "source": [
    "# to view actual house on google map\n",
    "url = 'https://www.google.com/maps/place/'+street_name+'+'+house_number+',+'+postcode+'+'+name_of_the_municipality\n",
    "webbrowser.open(url)"
   ]
  }
 ],
 "metadata": {
  "kernelspec": {
   "display_name": "Python 3.9.7 ('base')",
   "language": "python",
   "name": "python3"
  },
  "language_info": {
   "codemirror_mode": {
    "name": "ipython",
    "version": 3
   },
   "file_extension": ".py",
   "mimetype": "text/x-python",
   "name": "python",
   "nbconvert_exporter": "python",
   "pygments_lexer": "ipython3",
   "version": "3.9.7"
  },
  "orig_nbformat": 4,
  "vscode": {
   "interpreter": {
    "hash": "40d3a090f54c6569ab1632332b64b2c03c39dcf918b08424e98f38b5ae0af88f"
   }
  }
 },
 "nbformat": 4,
 "nbformat_minor": 2
}
