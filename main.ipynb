{
 "cells": [
  {
   "cell_type": "code",
   "execution_count": 95,
   "metadata": {},
   "outputs": [],
   "source": [
    "#import all the necessary libraries\n",
    "import requests\n",
    "import json\n",
    "import matplotlib.pyplot as plt\n",
    "from rasterio.plot import show\n",
    "import os\n",
    "import pandas as pd\n",
    "import plotly.graph_objects as go\n",
    "import imageio\n",
    "from glob import glob \n",
    "import os\n",
    "from shapely.geometry.polygon import Polygon\n",
    "from natsort import natsorted, ns\n",
    "import fiona\n",
    "import rasterio\n",
    "import rasterio.mask\n",
    "import plotly.express as px\n",
    "import time\n",
    "import webbrowser\n",
    "from mayavi import mlab\n",
    "import mayavi\n",
    "from IPython.display import Image\n"
   ]
  },
  {
   "cell_type": "markdown",
   "metadata": {},
   "source": [
    "### Step 1: enter an address in Province Antwerp"
   ]
  },
  {
   "cell_type": "code",
   "execution_count": 96,
   "metadata": {},
   "outputs": [],
   "source": [
    "#ask for input for an address in Antwerp\n",
    "#Example format: Sint-Pietersvliet 7 2000 Antwerpen\n",
    "address=input(\"Please enter an address in Province Antwerp, format: street-name house-number postcode city\")"
   ]
  },
  {
   "cell_type": "code",
   "execution_count": 97,
   "metadata": {},
   "outputs": [],
   "source": [
    "# Log the start time\n",
    "start_time = time.time()"
   ]
  },
  {
   "cell_type": "markdown",
   "metadata": {},
   "source": [
    "### Step 2: find the address polygon data from API"
   ]
  },
  {
   "cell_type": "code",
   "execution_count": 98,
   "metadata": {},
   "outputs": [],
   "source": [
    "#Parse the entered address\n",
    "street_name = address.split(\" \")[0:-3]\n",
    "house_number = address.split(\" \")[-3]\n",
    "postcode = address.split(\" \")[-2]\n",
    "name_of_the_municipality = address.split(\" \")[-1]\n",
    "\n",
    "#get the address information from api\n",
    "address_url = \"https://api.basisregisters.vlaanderen.be/v1/adresmatch\"\n",
    "address_params = {'straatnaam':street_name, 'huisnummer':house_number, 'postcode':postcode}\n",
    "address_match_result = requests.get(address_url,params=address_params)\n",
    "address_match_data = address_match_result.json()"
   ]
  },
  {
   "cell_type": "code",
   "execution_count": 99,
   "metadata": {},
   "outputs": [],
   "source": [
    "#normalize the json data and find the gebouweenheden link\n",
    "df=pd.json_normalize(address_match_data,'adresMatches')\n",
    "gebouweenheden = df[\"adresseerbareObjecten\"]\n",
    "gebouweenheden_link = gebouweenheden[0][0]['detail']"
   ]
  },
  {
   "cell_type": "code",
   "execution_count": 100,
   "metadata": {},
   "outputs": [
    {
     "data": {
      "text/plain": [
       "{'identificator': {'id': 'https://data.vlaanderen.be/id/gebouweenheid/14529201',\n",
       "  'naamruimte': 'https://data.vlaanderen.be/id/gebouweenheid',\n",
       "  'objectId': '14529201',\n",
       "  'versieId': '2018-03-25T01:39:50+01:00'},\n",
       " 'geometriePunt': {'point': {'coordinates': [202441.1, 208830.83],\n",
       "   'type': 'Point'}},\n",
       " 'positieGeometrieMethode': 'afgeleidVanObject',\n",
       " 'gebouweenheidStatus': 'gerealiseerd',\n",
       " 'functie': 'gemeenschappelijkDeel',\n",
       " 'gebouw': {'objectId': '14528388',\n",
       "  'detail': 'https://api.basisregisters.vlaanderen.be/v1/gebouwen/14528388'},\n",
       " 'adressen': [{'objectId': '2926621',\n",
       "   'detail': 'https://api.basisregisters.vlaanderen.be/v1/adressen/2926621'}]}"
      ]
     },
     "execution_count": 100,
     "metadata": {},
     "output_type": "execute_result"
    }
   ],
   "source": [
    "#get the data from gebouweenheden\n",
    "r = requests.get(gebouweenheden_link)\n",
    "gebouwen_data = json.loads(r.content)\n",
    "gebouwen_data "
   ]
  },
  {
   "cell_type": "code",
   "execution_count": 101,
   "metadata": {},
   "outputs": [
    {
     "name": "stdout",
     "output_type": "stream",
     "text": [
      "https://api.basisregisters.vlaanderen.be/v1/gebouwen/14528388\n"
     ]
    }
   ],
   "source": [
    "#extract gebouw link from the dictionary of gebouwenheden\n",
    "gebouw_link = gebouwen_data['gebouw']['detail']\n",
    "print(gebouw_link)"
   ]
  },
  {
   "cell_type": "code",
   "execution_count": 102,
   "metadata": {},
   "outputs": [],
   "source": [
    "#extract polygon data from the dictionary of gebouwenheden\n",
    "r = requests.get(gebouw_link)\n",
    "gebouw_data = json.loads(r.content)\n",
    "polygon = Polygon(gebouw_data['geometriePolygoon']['polygon']['coordinates'][0])\n",
    "polygon_coord = gebouw_data['geometriePolygoon']['polygon']['coordinates'][0]\n"
   ]
  },
  {
   "cell_type": "code",
   "execution_count": 103,
   "metadata": {},
   "outputs": [
    {
     "data": {
      "image/png": "[encoded data removed]",
      "text/plain": [
       "<Figure size 432x288 with 1 Axes>"
      ]
     },
     "metadata": {
      "needs_background": "light"
     },
     "output_type": "display_data"
    }
   ],
   "source": [
    "#plot the polygon of the address \n",
    "coord=polygon_coord\n",
    "xs, ys = zip(*coord) #create lists of x and y values\n",
    "plt.figure()\n",
    "plt.plot(xs,ys) \n",
    "plt.show() "
   ]
  },
  {
   "cell_type": "markdown",
   "metadata": {},
   "source": [
    "### Step 3: Get the list of all the tif file of DSM and DTM"
   ]
  },
  {
   "cell_type": "code",
   "execution_count": 104,
   "metadata": {},
   "outputs": [],
   "source": [
    "dtm_path = '/Users/yihuiwang/Documents/BeCode/My_project/3D_House/3d house data/DTM/**/*.tif'\n",
    "dsm_path = '/Users/yihuiwang/Documents/BeCode/My_project/3D_House/3d house data/DSM/**/*.tif'\n",
    "def tif_file(path):\n",
    "    \n",
    "    tif_file =[]\n",
    "    \n",
    "    # using glob library to get all the file with .tif\n",
    "    files = glob(path,recursive = True) \n",
    "    for file in files: \n",
    "        tif_file.append(file)\n",
    "\n",
    "     # sort files with number in the file (ascending order) using natsorted library\n",
    "    tif_file = natsorted(tif_file, alg=ns.IGNORECASE)     \n",
    "    return tif_file\n",
    "\n",
    "dsm_tif= tif_file(dsm_path)\n",
    "#print(dsm_tif)"
   ]
  },
  {
   "cell_type": "code",
   "execution_count": 105,
   "metadata": {},
   "outputs": [],
   "source": [
    "dtm_tif= tif_file(dtm_path)\n",
    "#print(dtm_tif)"
   ]
  },
  {
   "cell_type": "markdown",
   "metadata": {},
   "source": [
    "### Step 4: Creat bounding box of all the downloaded zone"
   ]
  },
  {
   "cell_type": "code",
   "execution_count": 106,
   "metadata": {},
   "outputs": [],
   "source": [
    "for file in dsm_tif:\n",
    "     dsm_bounds = rasterio.open(file).bounds\n",
    "     #print(dsm_bounds)"
   ]
  },
  {
   "cell_type": "markdown",
   "metadata": {},
   "source": [
    "### Step 5: Find in which zone the given address is located    \n",
    "        (if not an address in Province Antwerp, ask to enter a new address)"
   ]
  },
  {
   "cell_type": "code",
   "execution_count": 107,
   "metadata": {},
   "outputs": [
    {
     "name": "stdout",
     "output_type": "stream",
     "text": [
      "The house is in this tif: /Users/yihuiwang/Documents/BeCode/My_project/3D_House/3d house data/DSM/DHMVIIDSMRAS1m_k17/GeoTIFF/DHMVIIDSMRAS1m_k17.tif\n"
     ]
    }
   ],
   "source": [
    "# to check which dsm tif contains the polygon of the given address\n",
    "\n",
    "def check_polygon_in_dsm():\n",
    "    for file in dsm_tif:\n",
    "        bound = rasterio.open(file).bounds\n",
    "        for x, y in polygon_coord:\n",
    "            if (bound[0]<= x <= bound[2]) and (bound[1]<= y <= bound[3]):\n",
    "                    scr_path=file\n",
    "                    print('The house is in this tif:',file)\n",
    "                    return scr_path\n",
    "            else:\n",
    "                pass\n",
    "    print(\"This address is not in Province Antwerp. Please enter a new address.\")\n",
    "            \n",
    "\n",
    "dsm_src_path = check_polygon_in_dsm()\n"
   ]
  },
  {
   "cell_type": "code",
   "execution_count": 108,
   "metadata": {},
   "outputs": [
    {
     "name": "stdout",
     "output_type": "stream",
     "text": [
      "The house is in this tif: /Users/yihuiwang/Documents/BeCode/My_project/3D_House/3d house data/DTM/DHMVIIDTMRAS1m_k17/GeoTIFF/DHMVIIDTMRAS1m_k17.tif\n"
     ]
    }
   ],
   "source": [
    "# to check which dtm tif contains the polygon of the given address\n",
    "\n",
    "def check_polygon_in_dtm():\n",
    "    for file in dtm_tif:\n",
    "        bound = rasterio.open(file).bounds\n",
    "        for x, y in polygon_coord:\n",
    "            if (bound[0]<= x <= bound[2]) and (bound[1]<= y <= bound[3]):\n",
    "                    scr_path=file\n",
    "                    print('The house is in this tif:',file)\n",
    "                    return scr_path\n",
    "            else:\n",
    "                pass\n",
    "    print(\"This address is not in Province Antwerp. Please enter a new address.\")\n",
    "            \n",
    "\n",
    "dtm_src_path = check_polygon_in_dtm()"
   ]
  },
  {
   "cell_type": "code",
   "execution_count": 109,
   "metadata": {},
   "outputs": [
    {
     "name": "stdout",
     "output_type": "stream",
     "text": [
      "/Users/yihuiwang/Documents/BeCode/My_project/3D_House/3d house data/DSM/DHMVIIDSMRAS1m_k17/GeoTIFF/DHMVIIDSMRAS1m_k17.tif\n",
      "/Users/yihuiwang/Documents/BeCode/My_project/3D_House/3d house data/DTM/DHMVIIDTMRAS1m_k17/GeoTIFF/DHMVIIDTMRAS1m_k17.tif\n"
     ]
    }
   ],
   "source": [
    "print(dsm_src_path)\n",
    "print(dtm_src_path)\n"
   ]
  },
  {
   "cell_type": "markdown",
   "metadata": {},
   "source": [
    "### Step 6: clip the dsm and dtm based on the polygon of address"
   ]
  },
  {
   "cell_type": "code",
   "execution_count": 110,
   "metadata": {},
   "outputs": [],
   "source": [
    "def clip(path):\n",
    "    try:\n",
    "        with rasterio.open(path) as src:\n",
    "            out_image, out_transform = rasterio.mask.mask(src, [polygon], crop=True)\n",
    "        clipped_result = out_image[0]\n",
    "    except Exception as err:\n",
    "        print(\"Problem with clipping process\")\n",
    "        \n",
    "    return clipped_result\n",
    "\n",
    "clipped_dsm = clip(dsm_src_path)\n",
    "clipped_dtm = clip(dtm_src_path)"
   ]
  },
  {
   "cell_type": "markdown",
   "metadata": {},
   "source": [
    "### Step 7: calculate the CHM of the address"
   ]
  },
  {
   "cell_type": "code",
   "execution_count": 111,
   "metadata": {},
   "outputs": [],
   "source": [
    "clipped_chm = clipped_dsm-clipped_dtm"
   ]
  },
  {
   "cell_type": "markdown",
   "metadata": {},
   "source": [
    "### Step 8: 3D plot of the house"
   ]
  },
  {
   "cell_type": "code",
   "execution_count": 112,
   "metadata": {},
   "outputs": [
    {
     "data": {
      "application/vnd.plotly.v1+json": {
       "config": {
        "plotlyServerURL": "https://plot.ly"
       },
       "data": [
        {
         "type": "surface",
         "z": [
          [
           0,
           0,
           0,
           0,
           0,
           0,
           0,
           0,
           0,
           0,
           0,
           0,
           0,
           0,
           0,
           0,
           0,
           0,
           0,
           0,
           0,
           0,
           0,
           0,
           0,
           0,
           0,
           0,
           0,
           0,
           0,
           0,
           0,
           0,
           0,
           0,
           0,
           0,
           0,
           0,
           0,
           0
          ],
          [
           0,
           0.3900012969970703,
           4.430000305175781,
           4.563312530517578,
           4.626697540283203,
           0,
           0,
           0,
           0,
           0,
           0,
           0,
           0,
           0,
           0,
           0,
           0,
           0,
           0,
           0,
           0,
           0,
           0,
           0,
           0,
           0,
           0,
           0,
           0,
           0,
           0,
           0,
           0,
           0,
           0,
           0,
           0,
           0,
           0,
           0,
           0,
           0
          ],
          [
           0,
           3.510000228881836,
           4.369998931884766,
           4.800067901611328,
           4.976295471191406,
           4.985721588134766,
           4.947450637817383,
           4.451679229736328,
           4.474191665649414,
           4.505067825317383,
           4.429544448852539,
           0,
           0,
           0,
           0,
           0,
           0,
           0,
           0,
           0,
           0,
           0,
           0,
           0,
           0,
           0,
           0,
           0,
           0,
           0,
           0,
           0,
           0,
           0,
           0,
           0,
           0,
           0,
           0,
           0,
           0,
           0
          ],
          [
           0,
           4.420000076293945,
           4.372703552246094,
           4.400907516479492,
           4.426471710205078,
           4.449237823486328,
           4.481060028076172,
           4.463081359863281,
           4.454225540161133,
           4.455108642578125,
           4.478815078735352,
           4.490934371948242,
           4.475456237792969,
           4.503009796142578,
           4.527612686157227,
           4.519132614135742,
           0,
           0,
           0,
           0,
           0,
           0,
           0,
           0,
           0,
           0,
           0,
           0,
           0,
           0,
           0,
           0,
           0,
           0,
           0,
           0,
           0,
           0,
           0,
           0,
           0,
           0
          ],
          [
           0,
           4.414724349975586,
           4.413188934326172,
           4.431879043579102,
           4.438253402709961,
           4.4490814208984375,
           4.470712661743164,
           4.434881210327148,
           4.438274383544922,
           4.464702606201172,
           4.4689483642578125,
           4.470386505126953,
           4.4559173583984375,
           4.476171493530273,
           4.488056182861328,
           4.487060546875,
           4.440814971923828,
           4.474397659301758,
           4.416954040527344,
           4.410968780517578,
           4.415727615356445,
           4.231597900390625,
           0,
           0,
           0,
           0,
           0,
           0,
           0,
           0,
           0,
           0,
           0,
           0,
           0,
           0,
           0,
           0,
           0,
           0,
           0,
           0
          ],
          [
           0,
           4.451755523681641,
           4.460016250610352,
           4.479032516479492,
           4.466909408569336,
           4.460380554199219,
           4.471967697143555,
           4.435306549072266,
           4.4390411376953125,
           4.426782608032227,
           4.472991943359375,
           4.471586227416992,
           4.454826354980469,
           4.4673004150390625,
           4.486335754394531,
           4.436611175537109,
           4.466239929199219,
           4.459161758422852,
           4.421499252319336,
           4.39506721496582,
           4.379064559936523,
           4.344991683959961,
           4.35746955871582,
           4.337881088256836,
           4.3339996337890625,
           4.533670425415039,
           5.5384368896484375,
           0,
           0,
           0,
           0,
           0,
           0,
           0,
           0,
           0,
           0,
           0,
           0,
           0,
           0,
           0
          ],
          [
           0,
           4.484375,
           4.480930328369141,
           4.488468170166016,
           4.493112564086914,
           4.489233016967773,
           4.481515884399414,
           4.445531845092773,
           4.46360969543457,
           4.420051574707031,
           4.466331481933594,
           4.456968307495117,
           4.416112899780273,
           4.473075866699219,
           4.466930389404297,
           4.431659698486328,
           4.46875,
           4.441530227661133,
           4.423318862915039,
           4.385717391967773,
           4.390596389770508,
           4.357063293457031,
           4.360973358154297,
           4.3516387939453125,
           4.282390594482422,
           4.293413162231445,
           4.579282760620117,
           12.475133895874023,
           12.590991973876953,
           10.306875228881836,
           9.512760162353516,
           9.408634185791016,
           9.39263916015625,
           0,
           0,
           0,
           0,
           0,
           0,
           0,
           0,
           0
          ],
          [
           0,
           8.555923461914062,
           4.477807998657227,
           4.49943733215332,
           4.474313735961914,
           4.492826461791992,
           4.499185562133789,
           4.495754241943359,
           4.454809188842773,
           4.450113296508789,
           4.466943740844727,
           4.463693618774414,
           4.445192337036133,
           4.46293830871582,
           4.497047424316406,
           4.486921310424805,
           4.46980094909668,
           4.454986572265625,
           4.442035675048828,
           4.393548965454102,
           4.379878997802734,
           4.408969879150391,
           4.413152694702148,
           4.394557952880859,
           4.305316925048828,
           4.301422119140625,
           6.737565994262695,
           12.483665466308594,
           12.509801864624023,
           12.515981674194336,
           12.541645050048828,
           12.548044204711914,
           12.552404403686523,
           13.358867645263672,
           14.335334777832031,
           15.292379379272461,
           14.970418930053711,
           9.510261535644531,
           0,
           0,
           0,
           0
          ],
          [
           0,
           12.010000228881836,
           4.429908752441406,
           4.433097839355469,
           4.436250686645508,
           4.463615417480469,
           4.477075576782227,
           4.454826354980469,
           4.450935363769531,
           4.463325500488281,
           4.460540771484375,
           4.440267562866211,
           4.416685104370117,
           4.45599365234375,
           4.442575454711914,
           4.448017120361328,
           4.441936492919922,
           4.47974967956543,
           4.4008636474609375,
           4.394796371459961,
           4.381336212158203,
           4.401487350463867,
           4.415327072143555,
           4.400606155395508,
           4.343542098999023,
           4.3116607666015625,
           9.53763198852539,
           12.483535766601562,
           12.499444961547852,
           12.52534294128418,
           12.531213760375977,
           12.559402465820312,
           12.520956039428711,
           13.43696403503418,
           14.433000564575195,
           15.443780899047852,
           16.402725219726562,
           16.66231918334961,
           15.652725219726562,
           14.662765502929688,
           13.663097381591797,
           0
          ],
          [
           10.669998168945312,
           8.479999542236328,
           4.674427032470703,
           4.406543731689453,
           4.418828964233398,
           4.465719223022461,
           4.469831466674805,
           4.466104507446289,
           4.462379455566406,
           4.4464569091796875,
           4.454074859619141,
           4.421590805053711,
           4.443817138671875,
           4.482940673828125,
           4.459264755249023,
           4.441280364990234,
           4.437368392944336,
           4.452533721923828,
           4.405069351196289,
           4.403343200683594,
           4.415403366088867,
           4.43231201171875,
           4.406253814697266,
           4.364412307739258,
           4.363613128662109,
           4.35600471496582,
           10.638568878173828,
           13.154731750488281,
           12.640872955322266,
           12.586980819702148,
           12.543041229248047,
           12.561851501464844,
           12.532976150512695,
           13.559076309204102,
           14.605167388916016,
           15.541261672973633,
           16.49112892150879,
           16.520668029785156,
           15.53309440612793,
           14.583230972290039,
           13.563825607299805,
           0
          ],
          [
           14.719999313354492,
           13.09000015258789,
           10.360000610351562,
           4.412574768066406,
           4.414737701416016,
           4.4504852294921875,
           4.473907470703125,
           4.444759368896484,
           4.461431503295898,
           4.455390930175781,
           4.451190948486328,
           4.455514907836914,
           4.451131820678711,
           4.483844757080078,
           4.48005485534668,
           4.431888580322266,
           4.4378662109375,
           4.395938873291016,
           4.366619110107422,
           4.350543975830078,
           4.383630752563477,
           4.401126861572266,
           4.379438400268555,
           4.359264373779297,
           4.358922958374023,
           4.361249923706055,
           12.669912338256836,
           12.970571517944336,
           12.996747970581055,
           12.672855377197266,
           12.668874740600586,
           12.898162841796875,
           12.668601989746094,
           13.684579849243164,
           14.680488586425781,
           15.676319122314453,
           16.63711929321289,
           16.376317977905273,
           15.366010665893555,
           14.365968704223633,
           13.423601150512695,
           0
          ],
          [
           16.780000686645508,
           13.319999694824219,
           10.299999237060547,
           6.322635650634766,
           4.421867370605469,
           4.426717758178711,
           4.460638046264648,
           4.451711654663086,
           4.476593017578125,
           4.46226692199707,
           4.449743270874023,
           4.454996109008789,
           4.459623336791992,
           4.473291397094727,
           4.455236434936523,
           4.450387954711914,
           4.446077346801758,
           4.412811279296875,
           4.382694244384766,
           4.392873764038086,
           4.380807876586914,
           4.408123016357422,
           4.386219024658203,
           4.3383941650390625,
           4.358846664428711,
           4.33137321472168,
           12.570690155029297,
           12.881914138793945,
           12.968355178833008,
           12.684709548950195,
           12.835912704467773,
           12.681076049804688,
           13.66092300415039,
           15.387048721313477,
           14.873065948486328,
           15.81894302368164,
           16.793109893798828,
           16.229808807373047,
           15.30914306640625,
           15.368354797363281,
           14.458003997802734,
           0
          ],
          [
           0,
           0,
           0,
           0,
           4.457162857055664,
           4.4326171875,
           4.456142425537109,
           4.446374893188477,
           4.451360702514648,
           4.468852996826172,
           4.486410140991211,
           4.4399871826171875,
           4.457798004150391,
           4.491090774536133,
           4.442657470703125,
           4.43720817565918,
           4.403903961181641,
           4.378055572509766,
           4.377290725708008,
           4.347391128540039,
           4.3747406005859375,
           4.364860534667969,
           4.35887336730957,
           4.289449691772461,
           4.329139709472656,
           4.321460723876953,
           12.540767669677734,
           12.668865203857422,
           12.664007186889648,
           12.640514373779297,
           12.662281036376953,
           12.670652389526367,
           15.509706497192383,
           15.25517463684082,
           15.260486602783203,
           15.905628204345703,
           16.929048538208008,
           16.087371826171875,
           15.225982666015625,
           15.245183944702148,
           12.54542350769043,
           0
          ],
          [
           0,
           0,
           0,
           0,
           0,
           0,
           0,
           0,
           0,
           4.497732162475586,
           4.494449615478516,
           4.467384338378906,
           4.463459014892578,
           4.472713470458984,
           4.448265075683594,
           4.432283401489258,
           4.397026062011719,
           4.380817413330078,
           4.378349304199219,
           4.359584808349609,
           4.366916656494141,
           4.346590042114258,
           4.306907653808594,
           4.308565139770508,
           4.3183135986328125,
           4.320137023925781,
           12.709474563598633,
           12.67658805847168,
           12.843910217285156,
           13.207992553710938,
           12.660211563110352,
           12.655008316040039,
           15.374031066894531,
           15.33010482788086,
           15.273422241210938,
           16.038314819335938,
           16.951318740844727,
           15.939905166625977,
           15.227882385253906,
           15.236589431762695,
           12.525634765625,
           0
          ],
          [
           0,
           0,
           0,
           0,
           0,
           0,
           0,
           0,
           0,
           0,
           0,
           0,
           0,
           0,
           4.461109161376953,
           4.392860412597656,
           4.398832321166992,
           4.37263298034668,
           4.370822906494141,
           4.3314666748046875,
           4.352045059204102,
           4.338708877563477,
           4.287670135498047,
           4.269245147705078,
           4.289365768432617,
           4.361087799072266,
           13.360786437988281,
           12.684452056884766,
           12.684854507446289,
           13.392087936401367,
           13.312774658203125,
           12.647409439086914,
           15.295509338378906,
           15.281526565551758,
           15.267387390136719,
           16.163053512573242,
           16.816747665405273,
           15.842916488647461,
           15.218050003051758,
           15.237409591674805,
           12.546756744384766,
           0
          ],
          [
           0,
           0,
           0,
           0,
           0,
           0,
           0,
           0,
           0,
           0,
           0,
           0,
           0,
           0,
           0,
           0,
           0,
           0,
           0,
           4.345914840698242,
           4.347141265869141,
           4.285671234130859,
           4.270349502563477,
           4.271759033203125,
           4.232446670532227,
           4.663936614990234,
           13.384048461914062,
           12.797658920288086,
           12.657546997070312,
           12.69332504272461,
           12.699663162231445,
           12.972522735595703,
           14.680025100708008,
           15.296876907348633,
           15.49345588684082,
           16.329561233520508,
           16.693553924560547,
           15.729999542236328,
           15.255531311035156,
           15.284420013427734,
           12.552602767944336,
           0
          ],
          [
           0,
           0,
           0,
           0,
           0,
           0,
           0,
           0,
           0,
           0,
           0,
           0,
           0,
           0,
           0,
           0,
           0,
           0,
           0,
           0,
           0,
           0,
           0,
           0,
           4.254600524902344,
           12.636180877685547,
           12.517044067382812,
           12.511474609375,
           12.501487731933594,
           12.528390884399414,
           12.53521728515625,
           12.681917190551758,
           13.495748519897461,
           14.492944717407227,
           16.51008415222168,
           17.077138900756836,
           16.612016677856445,
           15.611560821533203,
           15.288002014160156,
           15.49471664428711,
           0,
           0
          ],
          [
           0,
           0,
           0,
           0,
           0,
           0,
           0,
           0,
           0,
           0,
           0,
           0,
           0,
           0,
           0,
           0,
           0,
           0,
           0,
           0,
           0,
           0,
           0,
           0,
           0,
           0,
           0,
           0,
           12.549400329589844,
           12.536031723022461,
           12.54266357421875,
           12.549276351928711,
           13.625661849975586,
           14.689645767211914,
           16.526527404785156,
           17.02334213256836,
           16.467926025390625,
           15.454736709594727,
           14.501623153686523,
           13.51573371887207,
           0,
           0
          ],
          [
           0,
           0,
           0,
           0,
           0,
           0,
           0,
           0,
           0,
           0,
           0,
           0,
           0,
           0,
           0,
           0,
           0,
           0,
           0,
           0,
           0,
           0,
           0,
           0,
           0,
           0,
           0,
           0,
           0,
           0,
           0,
           0,
           0,
           14.77088737487793,
           16.558332443237305,
           16.765716552734375,
           16.350706100463867,
           15.357658386230469,
           11.27522087097168,
           13.39207649230957,
           0,
           0
          ],
          [
           0,
           0,
           0,
           0,
           0,
           0,
           0,
           0,
           0,
           0,
           0,
           0,
           0,
           0,
           0,
           0,
           0,
           0,
           0,
           0,
           0,
           0,
           0,
           0,
           0,
           0,
           0,
           0,
           0,
           0,
           0,
           0,
           0,
           0,
           0,
           0,
           0,
           0,
           12.37002944946289,
           13.246845245361328,
           0,
           0
          ]
         ]
        }
       ],
       "layout": {
        "autosize": false,
        "height": 700,
        "margin": {
         "b": 70,
         "l": 70,
         "r": 70,
         "t": 90
        },
        "scene": {
         "xaxis": {
          "title": {
           "text": "Distance (m)"
          }
         },
         "yaxis": {
          "title": {
           "text": "Distance (m)"
          }
         },
         "zaxis": {
          "title": {
           "text": "Elevation (m)"
          }
         }
        },
        "template": {
         "data": {
          "bar": [
           {
            "error_x": {
             "color": "#2a3f5f"
            },
            "error_y": {
             "color": "#2a3f5f"
            },
            "marker": {
             "line": {
              "color": "#E5ECF6",
              "width": 0.5
             },
             "pattern": {
              "fillmode": "overlay",
              "size": 10,
              "solidity": 0.2
             }
            },
            "type": "bar"
           }
          ],
          "barpolar": [
           {
            "marker": {
             "line": {
              "color": "#E5ECF6",
              "width": 0.5
             },
             "pattern": {
              "fillmode": "overlay",
              "size": 10,
              "solidity": 0.2
             }
            },
            "type": "barpolar"
           }
          ],
          "carpet": [
           {
            "aaxis": {
             "endlinecolor": "#2a3f5f",
             "gridcolor": "white",
             "linecolor": "white",
             "minorgridcolor": "white",
             "startlinecolor": "#2a3f5f"
            },
            "baxis": {
             "endlinecolor": "#2a3f5f",
             "gridcolor": "white",
             "linecolor": "white",
             "minorgridcolor": "white",
             "startlinecolor": "#2a3f5f"
            },
            "type": "carpet"
           }
          ],
          "choropleth": [
           {
            "colorbar": {
             "outlinewidth": 0,
             "ticks": ""
            },
            "type": "choropleth"
           }
          ],
          "contour": [
           {
            "colorbar": {
             "outlinewidth": 0,
             "ticks": ""
            },
            "colorscale": [
             [
              0,
              "#0d0887"
             ],
             [
              0.1111111111111111,
              "#46039f"
             ],
             [
              0.2222222222222222,
              "#7201a8"
             ],
             [
              0.3333333333333333,
              "#9c179e"
             ],
             [
              0.4444444444444444,
              "#bd3786"
             ],
             [
              0.5555555555555556,
              "#d8576b"
             ],
             [
              0.6666666666666666,
              "#ed7953"
             ],
             [
              0.7777777777777778,
              "#fb9f3a"
             ],
             [
              0.8888888888888888,
              "#fdca26"
             ],
             [
              1,
              "#f0f921"
             ]
            ],
            "type": "contour"
           }
          ],
          "contourcarpet": [
           {
            "colorbar": {
             "outlinewidth": 0,
             "ticks": ""
            },
            "type": "contourcarpet"
           }
          ],
          "heatmap": [
           {
            "colorbar": {
             "outlinewidth": 0,
             "ticks": ""
            },
            "colorscale": [
             [
              0,
              "#0d0887"
             ],
             [
              0.1111111111111111,
              "#46039f"
             ],
             [
              0.2222222222222222,
              "#7201a8"
             ],
             [
              0.3333333333333333,
              "#9c179e"
             ],
             [
              0.4444444444444444,
              "#bd3786"
             ],
             [
              0.5555555555555556,
              "#d8576b"
             ],
             [
              0.6666666666666666,
              "#ed7953"
             ],
             [
              0.7777777777777778,
              "#fb9f3a"
             ],
             [
              0.8888888888888888,
              "#fdca26"
             ],
             [
              1,
              "#f0f921"
             ]
            ],
            "type": "heatmap"
           }
          ],
          "heatmapgl": [
           {
            "colorbar": {
             "outlinewidth": 0,
             "ticks": ""
            },
            "colorscale": [
             [
              0,
              "#0d0887"
             ],
             [
              0.1111111111111111,
              "#46039f"
             ],
             [
              0.2222222222222222,
              "#7201a8"
             ],
             [
              0.3333333333333333,
              "#9c179e"
             ],
             [
              0.4444444444444444,
              "#bd3786"
             ],
             [
              0.5555555555555556,
              "#d8576b"
             ],
             [
              0.6666666666666666,
              "#ed7953"
             ],
             [
              0.7777777777777778,
              "#fb9f3a"
             ],
             [
              0.8888888888888888,
              "#fdca26"
             ],
             [
              1,
              "#f0f921"
             ]
            ],
            "type": "heatmapgl"
           }
          ],
          "histogram": [
           {
            "marker": {
             "pattern": {
              "fillmode": "overlay",
              "size": 10,
              "solidity": 0.2
             }
            },
            "type": "histogram"
           }
          ],
          "histogram2d": [
           {
            "colorbar": {
             "outlinewidth": 0,
             "ticks": ""
            },
            "colorscale": [
             [
              0,
              "#0d0887"
             ],
             [
              0.1111111111111111,
              "#46039f"
             ],
             [
              0.2222222222222222,
              "#7201a8"
             ],
             [
              0.3333333333333333,
              "#9c179e"
             ],
             [
              0.4444444444444444,
              "#bd3786"
             ],
             [
              0.5555555555555556,
              "#d8576b"
             ],
             [
              0.6666666666666666,
              "#ed7953"
             ],
             [
              0.7777777777777778,
              "#fb9f3a"
             ],
             [
              0.8888888888888888,
              "#fdca26"
             ],
             [
              1,
              "#f0f921"
             ]
            ],
            "type": "histogram2d"
           }
          ],
          "histogram2dcontour": [
           {
            "colorbar": {
             "outlinewidth": 0,
             "ticks": ""
            },
            "colorscale": [
             [
              0,
              "#0d0887"
             ],
             [
              0.1111111111111111,
              "#46039f"
             ],
             [
              0.2222222222222222,
              "#7201a8"
             ],
             [
              0.3333333333333333,
              "#9c179e"
             ],
             [
              0.4444444444444444,
              "#bd3786"
             ],
             [
              0.5555555555555556,
              "#d8576b"
             ],
             [
              0.6666666666666666,
              "#ed7953"
             ],
             [
              0.7777777777777778,
              "#fb9f3a"
             ],
             [
              0.8888888888888888,
              "#fdca26"
             ],
             [
              1,
              "#f0f921"
             ]
            ],
            "type": "histogram2dcontour"
           }
          ],
          "mesh3d": [
           {
            "colorbar": {
             "outlinewidth": 0,
             "ticks": ""
            },
            "type": "mesh3d"
           }
          ],
          "parcoords": [
           {
            "line": {
             "colorbar": {
              "outlinewidth": 0,
              "ticks": ""
             }
            },
            "type": "parcoords"
           }
          ],
          "pie": [
           {
            "automargin": true,
            "type": "pie"
           }
          ],
          "scatter": [
           {
            "fillpattern": {
             "fillmode": "overlay",
             "size": 10,
             "solidity": 0.2
            },
            "type": "scatter"
           }
          ],
          "scatter3d": [
           {
            "line": {
             "colorbar": {
              "outlinewidth": 0,
              "ticks": ""
             }
            },
            "marker": {
             "colorbar": {
              "outlinewidth": 0,
              "ticks": ""
             }
            },
            "type": "scatter3d"
           }
          ],
          "scattercarpet": [
           {
            "marker": {
             "colorbar": {
              "outlinewidth": 0,
              "ticks": ""
             }
            },
            "type": "scattercarpet"
           }
          ],
          "scattergeo": [
           {
            "marker": {
             "colorbar": {
              "outlinewidth": 0,
              "ticks": ""
             }
            },
            "type": "scattergeo"
           }
          ],
          "scattergl": [
           {
            "marker": {
             "colorbar": {
              "outlinewidth": 0,
              "ticks": ""
             }
            },
            "type": "scattergl"
           }
          ],
          "scattermapbox": [
           {
            "marker": {
             "colorbar": {
              "outlinewidth": 0,
              "ticks": ""
             }
            },
            "type": "scattermapbox"
           }
          ],
          "scatterpolar": [
           {
            "marker": {
             "colorbar": {
              "outlinewidth": 0,
              "ticks": ""
             }
            },
            "type": "scatterpolar"
           }
          ],
          "scatterpolargl": [
           {
            "marker": {
             "colorbar": {
              "outlinewidth": 0,
              "ticks": ""
             }
            },
            "type": "scatterpolargl"
           }
          ],
          "scatterternary": [
           {
            "marker": {
             "colorbar": {
              "outlinewidth": 0,
              "ticks": ""
             }
            },
            "type": "scatterternary"
           }
          ],
          "surface": [
           {
            "colorbar": {
             "outlinewidth": 0,
             "ticks": ""
            },
            "colorscale": [
             [
              0,
              "#0d0887"
             ],
             [
              0.1111111111111111,
              "#46039f"
             ],
             [
              0.2222222222222222,
              "#7201a8"
             ],
             [
              0.3333333333333333,
              "#9c179e"
             ],
             [
              0.4444444444444444,
              "#bd3786"
             ],
             [
              0.5555555555555556,
              "#d8576b"
             ],
             [
              0.6666666666666666,
              "#ed7953"
             ],
             [
              0.7777777777777778,
              "#fb9f3a"
             ],
             [
              0.8888888888888888,
              "#fdca26"
             ],
             [
              1,
              "#f0f921"
             ]
            ],
            "type": "surface"
           }
          ],
          "table": [
           {
            "cells": {
             "fill": {
              "color": "#EBF0F8"
             },
             "line": {
              "color": "white"
             }
            },
            "header": {
             "fill": {
              "color": "#C8D4E3"
             },
             "line": {
              "color": "white"
             }
            },
            "type": "table"
           }
          ]
         },
         "layout": {
          "annotationdefaults": {
           "arrowcolor": "#2a3f5f",
           "arrowhead": 0,
           "arrowwidth": 1
          },
          "autotypenumbers": "strict",
          "coloraxis": {
           "colorbar": {
            "outlinewidth": 0,
            "ticks": ""
           }
          },
          "colorscale": {
           "diverging": [
            [
             0,
             "#8e0152"
            ],
            [
             0.1,
             "#c51b7d"
            ],
            [
             0.2,
             "#de77ae"
            ],
            [
             0.3,
             "#f1b6da"
            ],
            [
             0.4,
             "#fde0ef"
            ],
            [
             0.5,
             "#f7f7f7"
            ],
            [
             0.6,
             "#e6f5d0"
            ],
            [
             0.7,
             "#b8e186"
            ],
            [
             0.8,
             "#7fbc41"
            ],
            [
             0.9,
             "#4d9221"
            ],
            [
             1,
             "#276419"
            ]
           ],
           "sequential": [
            [
             0,
             "#0d0887"
            ],
            [
             0.1111111111111111,
             "#46039f"
            ],
            [
             0.2222222222222222,
             "#7201a8"
            ],
            [
             0.3333333333333333,
             "#9c179e"
            ],
            [
             0.4444444444444444,
             "#bd3786"
            ],
            [
             0.5555555555555556,
             "#d8576b"
            ],
            [
             0.6666666666666666,
             "#ed7953"
            ],
            [
             0.7777777777777778,
             "#fb9f3a"
            ],
            [
             0.8888888888888888,
             "#fdca26"
            ],
            [
             1,
             "#f0f921"
            ]
           ],
           "sequentialminus": [
            [
             0,
             "#0d0887"
            ],
            [
             0.1111111111111111,
             "#46039f"
            ],
            [
             0.2222222222222222,
             "#7201a8"
            ],
            [
             0.3333333333333333,
             "#9c179e"
            ],
            [
             0.4444444444444444,
             "#bd3786"
            ],
            [
             0.5555555555555556,
             "#d8576b"
            ],
            [
             0.6666666666666666,
             "#ed7953"
            ],
            [
             0.7777777777777778,
             "#fb9f3a"
            ],
            [
             0.8888888888888888,
             "#fdca26"
            ],
            [
             1,
             "#f0f921"
            ]
           ]
          },
          "colorway": [
           "#636efa",
           "#EF553B",
           "#00cc96",
           "#ab63fa",
           "#FFA15A",
           "#19d3f3",
           "#FF6692",
           "#B6E880",
           "#FF97FF",
           "#FECB52"
          ],
          "font": {
           "color": "#2a3f5f"
          },
          "geo": {
           "bgcolor": "white",
           "lakecolor": "white",
           "landcolor": "#E5ECF6",
           "showlakes": true,
           "showland": true,
           "subunitcolor": "white"
          },
          "hoverlabel": {
           "align": "left"
          },
          "hovermode": "closest",
          "mapbox": {
           "style": "light"
          },
          "paper_bgcolor": "white",
          "plot_bgcolor": "#E5ECF6",
          "polar": {
           "angularaxis": {
            "gridcolor": "white",
            "linecolor": "white",
            "ticks": ""
           },
           "bgcolor": "#E5ECF6",
           "radialaxis": {
            "gridcolor": "white",
            "linecolor": "white",
            "ticks": ""
           }
          },
          "scene": {
           "xaxis": {
            "backgroundcolor": "#E5ECF6",
            "gridcolor": "white",
            "gridwidth": 2,
            "linecolor": "white",
            "showbackground": true,
            "ticks": "",
            "zerolinecolor": "white"
           },
           "yaxis": {
            "backgroundcolor": "#E5ECF6",
            "gridcolor": "white",
            "gridwidth": 2,
            "linecolor": "white",
            "showbackground": true,
            "ticks": "",
            "zerolinecolor": "white"
           },
           "zaxis": {
            "backgroundcolor": "#E5ECF6",
            "gridcolor": "white",
            "gridwidth": 2,
            "linecolor": "white",
            "showbackground": true,
            "ticks": "",
            "zerolinecolor": "white"
           }
          },
          "shapedefaults": {
           "line": {
            "color": "#2a3f5f"
           }
          },
          "ternary": {
           "aaxis": {
            "gridcolor": "white",
            "linecolor": "white",
            "ticks": ""
           },
           "baxis": {
            "gridcolor": "white",
            "linecolor": "white",
            "ticks": ""
           },
           "bgcolor": "#E5ECF6",
           "caxis": {
            "gridcolor": "white",
            "linecolor": "white",
            "ticks": ""
           }
          },
          "title": {
           "x": 0.05
          },
          "xaxis": {
           "automargin": true,
           "gridcolor": "white",
           "linecolor": "white",
           "ticks": "",
           "title": {
            "standoff": 15
           },
           "zerolinecolor": "white",
           "zerolinewidth": 2
          },
          "yaxis": {
           "automargin": true,
           "gridcolor": "white",
           "linecolor": "white",
           "ticks": "",
           "title": {
            "standoff": 15
           },
           "zerolinecolor": "white",
           "zerolinewidth": 2
          }
         }
        },
        "title": {
         "text": "statiestraat 3 2400 mol"
        },
        "width": 700
       }
      }
     },
     "metadata": {},
     "output_type": "display_data"
    }
   ],
   "source": [
    "fig= go.Figure(data = [go.Surface(z=clipped_chm)])\n",
    "fig.update_layout(title= address, autosize=False,\n",
    "                  width=700, height=700,\n",
    "                  margin=dict(l=70, r=70, b=70, t=90))\n",
    "fig.update_scenes(xaxis_title_text='Distance (m)',  \n",
    "                  yaxis_title_text='Distance (m)',  \n",
    "                  zaxis_title_text='Elevation (m)')\n",
    "fig.show()"
   ]
  },
  {
   "cell_type": "code",
   "execution_count": 113,
   "metadata": {},
   "outputs": [
    {
     "name": "stdout",
     "output_type": "stream",
     "text": [
      "Time taken for generating 3D house in seconds:  3.28117299079895\n"
     ]
    }
   ],
   "source": [
    "# Log the end time\n",
    "end_time = time.time()\n",
    "\n",
    "print('Time taken for generating 3D house in seconds: ', end_time - start_time)"
   ]
  },
  {
   "cell_type": "code",
   "execution_count": 114,
   "metadata": {},
   "outputs": [],
   "source": [
    "#save the 3d image into html\n",
    "fig.write_html(\"/Users/yihuiwang/Documents/BeCode/My_project/3D_House/3d house data/3d_image_1.html\")\n"
   ]
  },
  {
   "cell_type": "code",
   "execution_count": 115,
   "metadata": {},
   "outputs": [],
   "source": [
    "mlab.figure(size=(640, 800), bgcolor=(0.16, 0.28, 0.46))\n",
    "\n",
    "surf = mlab.surf(clipped_chm)\n",
    "mayavi.mlab.title(address)\n",
    "\n",
    "saving_path = \"/Users/yihuiwang/Documents/BeCode/My_project/3D_House/3d house data/3d_effect/\"\n",
    "mlab.savefig(saving_path+address+'.png')\n",
    "# show saved mayavi image\n",
    "mlab.show()\n",
    "mayavi.mlab.close(all=True)"
   ]
  },
  {
   "cell_type": "code",
   "execution_count": 116,
   "metadata": {},
   "outputs": [
    {
     "data": {
      "image/png": "[encoded data removed]",
      "text/plain": [
       "<IPython.core.display.Image object>"
      ]
     },
     "execution_count": 116,
     "metadata": {},
     "output_type": "execute_result"
    }
   ],
   "source": [
    "Image(saving_path+address+'.png')"
   ]
  },
  {
   "cell_type": "markdown",
   "metadata": {},
   "source": [
    "### Step 9: check the 3d house with the google street view"
   ]
  },
  {
   "cell_type": "code",
   "execution_count": 117,
   "metadata": {},
   "outputs": [
    {
     "ename": "TypeError",
     "evalue": "can only concatenate str (not \"list\") to str",
     "output_type": "error",
     "traceback": [
      "\u001b[0;31m---------------------------------------------------------------------------\u001b[0m",
      "\u001b[0;31mTypeError\u001b[0m                                 Traceback (most recent call last)",
      "\u001b[0;32m/var/folders/19/sv_6hbsn0d52kh_xhxmjswxh0000gn/T/ipykernel_1701/3843117214.py\u001b[0m in \u001b[0;36m<module>\u001b[0;34m\u001b[0m\n\u001b[1;32m      1\u001b[0m \u001b[0;31m# to view actual house on google map\u001b[0m\u001b[0;34m\u001b[0m\u001b[0;34m\u001b[0m\u001b[0m\n\u001b[0;32m----> 2\u001b[0;31m \u001b[0murl\u001b[0m \u001b[0;34m=\u001b[0m \u001b[0;34m'https://www.google.com/maps/place/'\u001b[0m\u001b[0;34m+\u001b[0m\u001b[0mstreet_name\u001b[0m\u001b[0;34m+\u001b[0m\u001b[0;34m'+'\u001b[0m\u001b[0;34m+\u001b[0m\u001b[0mhouse_number\u001b[0m\u001b[0;34m+\u001b[0m\u001b[0;34m',+'\u001b[0m\u001b[0;34m+\u001b[0m\u001b[0mpostcode\u001b[0m\u001b[0;34m+\u001b[0m\u001b[0;34m'+'\u001b[0m\u001b[0;34m+\u001b[0m\u001b[0mname_of_the_municipality\u001b[0m\u001b[0;34m\u001b[0m\u001b[0;34m\u001b[0m\u001b[0m\n\u001b[0m\u001b[1;32m      3\u001b[0m \u001b[0mwebbrowser\u001b[0m\u001b[0;34m.\u001b[0m\u001b[0mopen\u001b[0m\u001b[0;34m(\u001b[0m\u001b[0murl\u001b[0m\u001b[0;34m)\u001b[0m\u001b[0;34m\u001b[0m\u001b[0;34m\u001b[0m\u001b[0m\n",
      "\u001b[0;31mTypeError\u001b[0m: can only concatenate str (not \"list\") to str"
     ]
    }
   ],
   "source": [
    "\n",
    "# to view actual house on google map\n",
    "url = 'https://www.google.com/maps/place/'+street_name+'+'+house_number+',+'+postcode+'+'+name_of_the_municipality\n",
    "webbrowser.open(url)"
   ]
  }
 ],
 "metadata": {
  "kernelspec": {
   "display_name": "Python 3.9.7 ('base')",
   "language": "python",
   "name": "python3"
  },
  "language_info": {
   "codemirror_mode": {
    "name": "ipython",
    "version": 3
   },
   "file_extension": ".py",
   "mimetype": "text/x-python",
   "name": "python",
   "nbconvert_exporter": "python",
   "pygments_lexer": "ipython3",
   "version": "3.9.7"
  },
  "orig_nbformat": 4,
  "vscode": {
   "interpreter": {
    "hash": "40d3a090f54c6569ab1632332b64b2c03c39dcf918b08424e98f38b5ae0af88f"
   }
  }
 },
 "nbformat": 4,
 "nbformat_minor": 2
}
